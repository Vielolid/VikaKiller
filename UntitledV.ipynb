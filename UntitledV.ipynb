{
 "cells": [
  {
   "cell_type": "code",
   "execution_count": null,
   "id": "65fc93f9-e691-48d5-a214-9fdcb7644fc5",
   "metadata": {},
   "outputs": [],
   "source": [
    "import yfinance as yf\n",
    "import pandas as pd\n",
    "\n",
    "# Descarga de datos de Tesla\n",
    "tesla = yf.Ticker(\"TSLA\")\n",
    "tesla_data = tesla.history(period=\"max\")\n",
    "\n",
    "# Guardar y mostrar los primeros datos\n",
    "tesla_data.reset_index(inplace=True)\n",
    "print(tesla_data.head())\n"
   ]
  },
  {
   "cell_type": "code",
   "execution_count": null,
   "id": "e09ec467-771e-4034-880e-01544b65e91d",
   "metadata": {},
   "outputs": [],
   "source": [
    "import requests\n",
    "from bs4 import BeautifulSoup\n",
    "\n",
    "# Webscraping de ingresos de Tesla\n",
    "url = \"https://www.macrotrends.net/stocks/charts/TSLA/tesla/revenue\"\n",
    "response = requests.get(url)\n",
    "soup = BeautifulSoup(response.text, 'html.parser')\n",
    "\n",
    "# Buscar tabla de ingresos\n",
    "table = soup.find_all('table')[1]  # Segunda tabla\n",
    "rows = table.find_all('tr')\n",
    "tesla_revenue = []\n",
    "\n",
    "for row in rows[1:]:\n",
    "    cols = row.find_all('td')\n",
    "    tesla_revenue.append({\n",
    "        \"Date\": cols[0].text.strip(),\n",
    "        \"Revenue\": cols[1].text.strip()\n",
    "    })\n",
    "\n",
    "# Convertir a DataFrame\n",
    "tesla_revenue_df = pd.DataFrame(tesla_revenue)\n",
    "print(tesla_revenue_df.head())\n"
   ]
  },
  {
   "cell_type": "code",
   "execution_count": null,
   "id": "5fbe9d0a-08a7-4fb4-9a85-1db7b200a340",
   "metadata": {},
   "outputs": [],
   "source": [
    "# Descarga de datos de GameStop\n",
    "gamestop = yf.Ticker(\"GME\")\n",
    "gamestop_data = gamestop.history(period=\"max\")\n",
    "\n",
    "# Guardar y mostrar los primeros datos\n",
    "gamestop_data.reset_index(inplace=True)\n",
    "print(gamestop_data.head())\n"
   ]
  },
  {
   "cell_type": "code",
   "execution_count": null,
   "id": "95295344-2ba1-4296-993e-252f5acd6a3d",
   "metadata": {},
   "outputs": [],
   "source": [
    "# Webscraping de ingresos de GameStop\n",
    "url = \"https://www.macrotrends.net/stocks/charts/GME/gamestop/revenue\"\n",
    "response = requests.get(url)\n",
    "soup = BeautifulSoup(response.text, 'html.parser')\n",
    "\n",
    "# Buscar tabla de ingresos\n",
    "table = soup.find_all('table')[1]  # Segunda tabla\n",
    "rows = table.find_all('tr')\n",
    "gamestop_revenue = []\n",
    "\n",
    "for row in rows[1:]:\n",
    "    cols = row.find_all('td')\n",
    "    gamestop_revenue.append({\n",
    "        \"Date\": cols[0].text.strip(),\n",
    "        \"Revenue\": cols[1].text.strip()\n",
    "    })\n",
    "\n",
    "# Convertir a DataFrame\n",
    "gamestop_revenue_df = pd.DataFrame(gamestop_revenue)\n",
    "print(gamestop_revenue_df.head())\n"
   ]
  },
  {
   "cell_type": "code",
   "execution_count": null,
   "id": "a7b83464-e12d-4d87-a109-312b0c82f8e7",
   "metadata": {},
   "outputs": [],
   "source": [
    "import matplotlib.pyplot as plt\n",
    "\n",
    "# Limpieza de datos de ingresos\n",
    "tesla_revenue_df[\"Revenue\"] = tesla_revenue_df[\"Revenue\"].str.replace(\",\", \"\").str.replace(\"$\", \"\").astype(float)\n",
    "tesla_revenue_df[\"Date\"] = pd.to_datetime(tesla_revenue_df[\"Date\"])\n",
    "\n",
    "# Graficar acciones e ingresos\n",
    "fig, ax1 = plt.subplots()\n",
    "\n",
    "ax1.set_xlabel(\"Date\")\n",
    "ax1.set_ylabel(\"Stock Price\", color=\"tab:blue\")\n",
    "ax1.plot(tesla_data['Date'], tesla_data['Close'], color=\"tab:blue\", label=\"Tesla Stock Price\")\n",
    "ax1.tick_params(axis=\"y\", labelcolor=\"tab:blue\")\n",
    "\n",
    "ax2 = ax1.twinx()\n",
    "ax2.set_ylabel(\"Revenue\", color=\"tab:green\")\n",
    "ax2.plot(tesla_revenue_df[\"Date\"], tesla_revenue_df[\"Revenue\"], color=\"tab:green\", label=\"Tesla Revenue\")\n",
    "ax2.tick_params(axis=\"y\", labelcolor=\"tab:green\")\n",
    "\n",
    "plt.title(\"Tesla Stock Price and Revenue\")\n",
    "plt.show()\n"
   ]
  },
  {
   "cell_type": "code",
   "execution_count": null,
   "id": "abf57368-2550-49be-a6cd-6458a9c6f033",
   "metadata": {},
   "outputs": [],
   "source": [
    "# Limpieza de datos de ingresos\n",
    "gamestop_revenue_df[\"Revenue\"] = gamestop_revenue_df[\"Revenue\"].str.replace(\",\", \"\").str.replace(\"$\", \"\").astype(float)\n",
    "gamestop_revenue_df[\"Date\"] = pd.to_datetime(gamestop_revenue_df[\"Date\"])\n",
    "\n",
    "# Graficar acciones e ingresos\n",
    "fig, ax1 = plt.subplots()\n",
    "\n",
    "ax1.set_xlabel(\"Date\")\n",
    "ax1.set_ylabel(\"Stock Price\", color=\"tab:red\")\n",
    "ax1.plot(gamestop_data['Date'], gamestop_data['Close'], color=\"tab:red\", label=\"GameStop Stock Price\")\n",
    "ax1.tick_params(axis=\"y\", labelcolor=\"tab:red\")\n",
    "\n",
    "ax2 = ax1.twinx()\n",
    "ax2.set_ylabel(\"Revenue\", color=\"tab:purple\")\n",
    "ax2.plot(gamestop_revenue_df[\"Date\"], gamestop_revenue_df[\"Revenue\"], color=\"tab:purple\", label=\"GameStop Revenue\")\n",
    "ax2.tick_params(axis=\"y\", labelcolor=\"tab:purple\")\n",
    "\n",
    "plt.title(\"GameStop Stock Price and Revenue\")\n",
    "plt.show()\n"
   ]
  },
  {
   "cell_type": "code",
   "execution_count": null,
   "id": "44e278f2-9e1f-4f12-ae32-098cd35f6123",
   "metadata": {},
   "outputs": [],
   "source": []
  }
 ],
 "metadata": {
  "kernelspec": {
   "display_name": "Python 3 (ipykernel)",
   "language": "python",
   "name": "python3"
  },
  "language_info": {
   "codemirror_mode": {
    "name": "ipython",
    "version": 3
   },
   "file_extension": ".py",
   "mimetype": "text/x-python",
   "name": "python",
   "nbconvert_exporter": "python",
   "pygments_lexer": "ipython3",
   "version": "3.11.9"
  }
 },
 "nbformat": 4,
 "nbformat_minor": 5
}
